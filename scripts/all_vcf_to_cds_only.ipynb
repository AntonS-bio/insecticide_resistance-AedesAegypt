{
 "cells": [
  {
   "cell_type": "code",
   "execution_count": 15,
   "metadata": {},
   "outputs": [],
   "source": [
    "import numpy as np\n",
    "import pandas as pd\n",
    "\n",
    "\n",
    "wd=\"/mnt/storage5/anton/Mosquitoes/ResistanceGenes/\"\n",
    "\n",
    "vcfFileName=\"AnnotatedResistanceV2.vcf\"\n",
    "\n",
    "#Process bed file used to get subregions for mapping to label each base in the VCF with Gene, Exon/Intron, CDS, Gene Name\n",
    "positionMetaData={} #key=chromosome, value={key=position, value={\"Intron/Exon\":, \"isCDS\":, \"GeneID\":} }\n",
    "relevantGeneIDs=set() #these are gene IDs to which reads have been aligned.\n",
    "with open(wd+\"InputData/mappedRegions.bed\") as bedFile:\n",
    "    for line in bedFile:\n",
    "        values=line.strip().split(\"\\t\")\n",
    "        relevantGeneIDs.add(values[3])\n",
    "        if values[0] not in positionMetaData:\n",
    "            positionMetaData[values[0]]={}\n",
    "        for i in range(int(values[1]), int(values[2])):\n",
    "            positionMetaData[values[0]][i]={\"mRNA\":False,\"exon\":False, \"CDS\":False, \"GeneID\":values[3]}\n",
    "##Populate the isExon, isCDS for the positionMetaData\n",
    "\n",
    "\n",
    "with open(\"/mnt/storage5/anton/Mosquitoes/GCF_002204515.2_AaegL5.0_genomic.gff\") as gffFile:\n",
    "    for line in gffFile:\n",
    "        if line[0]!=\"#\":\n",
    "            values=line.strip().split(\"\\t\")\n",
    "            if values[2] in [\"mRNA\",\"exon\",\"CDS\"]:\n",
    "                for relevantGeneID in relevantGeneIDs:\n",
    "                    if values[8].find(relevantGeneID)>-1: #check if id (ID=rna-XM_021846286.1) is among the target genes:\n",
    "                        for i in range( int(values[3]),  int(values[4])+1  ):\n",
    "                            positionMetaData[values[0]][i][values[2]]=True\n",
    "                        break\n"
   ]
  },
  {
   "cell_type": "code",
   "execution_count": 16,
   "metadata": {},
   "outputs": [],
   "source": [
    "gene_metadata=pd.read_csv(f'{wd}/InputData/GenesList.tsv', sep=\"\\t\", index_col=0)"
   ]
  },
  {
   "cell_type": "code",
   "execution_count": 25,
   "metadata": {},
   "outputs": [],
   "source": [
    "ExcludeRegions=[]\n",
    "ExcludeSamples=[]\n",
    "include_indices=[]\n",
    "\n",
    "cds_only_file=open(f'{wd}/OutputData/AnnotatedResistanceV3_exon_only.vcf',\"w\")\n",
    "with open(wd+vcfFileName) as full_vcf_file:\n",
    "    for line in full_vcf_file:\n",
    "        if line[0:6]==\"#CHROM\": #get indices of samples that need to be kept\n",
    "            for i, value in enumerate(line.strip().split(\"\\t\")):\n",
    "                if i<9:\n",
    "                    include_indices.append(i)\n",
    "                else:\n",
    "                    if value not in ExcludeSamples:\n",
    "                        include_indices.append(i)\n",
    "            include_indices=np.asarray(include_indices)\n",
    "            cds_only_file.write('\\t'.join(np.asarray(line.strip().split(\"\\t\"))[include_indices])+\"\\n\")\n",
    "        elif line[0]==\"#\" and line[0:6]!=\"#CHROM\":\n",
    "            cds_only_file.write(line)\n",
    "        else:\n",
    "            values=line.strip().split(\"\\t\")\n",
    "            if values[0]==\"NC_035159.1\" or positionMetaData[values[0]][int(values[1])][\"exon\"]:#cox1 has no start codon in reference, hence why it's accomodated separately     \n",
    "                position_coordinate=str(values[0])+\"_\"+str(values[1])\n",
    "                cds_only_file.write('\\t'.join(np.asarray(values)[include_indices])+\"\\n\")\n",
    "\n"
   ]
  }
 ],
 "metadata": {
  "kernelspec": {
   "display_name": "Python 3.7.6 ('base': conda)",
   "language": "python",
   "name": "python3"
  },
  "language_info": {
   "codemirror_mode": {
    "name": "ipython",
    "version": 3
   },
   "file_extension": ".py",
   "mimetype": "text/x-python",
   "name": "python",
   "nbconvert_exporter": "python",
   "pygments_lexer": "ipython3",
   "version": "3.7.6"
  },
  "orig_nbformat": 4,
  "vscode": {
   "interpreter": {
    "hash": "a612c00234cb2afc6511c78aaf3593a4092443bb2a0bed4620e32910b743a5d1"
   }
  }
 },
 "nbformat": 4,
 "nbformat_minor": 2
}
